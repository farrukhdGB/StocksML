{
 "cells": [
  {
   "cell_type": "code",
   "execution_count": 1,
   "id": "d32c4dde-0956-4294-81bc-287c8b7a2d81",
   "metadata": {},
   "outputs": [],
   "source": [
    "STOCK_TICKER = 'XPEV'\n",
    "ndays = 14 # HIGHER NUMBER OF DAYS, Forecasting: aggregating and compounding issue, use less 1-10days.\n",
    "start_date = '2018-01-01'"
   ]
  },
  {
   "cell_type": "code",
   "execution_count": 2,
   "id": "ef0d06ca-f36c-4a05-9443-c44557b6317d",
   "metadata": {
    "jupyter": {
     "source_hidden": true
    }
   },
   "outputs": [
    {
     "name": "stderr",
     "output_type": "stream",
     "text": [
      "[*********************100%%**********************]  1 of 1 completed\n"
     ]
    }
   ],
   "source": [
    "from imports import *\n",
    "import ta_functions as ta\n",
    "import plotstock as ps\n",
    "\n",
    "current_date = datetime.datetime.now().strftime('%Y-%m-%d')\n",
    "stock_df = ta.get_stock_data(STOCK_TICKER, start_date, current_date)\n",
    "stock_df = ta.add_technical_indicators(stock_df) \n",
    "stock_df = ta.add_candlestickpatterns(stock_df)\n",
    "#stock_df.columns"
   ]
  },
  {
   "cell_type": "code",
   "execution_count": 3,
   "id": "ac858239-8f06-4347-9f84-3d60da181a91",
   "metadata": {
    "jupyter": {
     "source_hidden": true
    }
   },
   "outputs": [
    {
     "name": "stdout",
     "output_type": "stream",
     "text": [
      "Root Mean Squared Error: 0.769\n",
      "R^2 Score: 0.996\n",
      "Current price of XPEV: 12.72\n"
     ]
    }
   ],
   "source": [
    "# Model Training\n",
    "X, y, scaler = ta.prepare_ml_data(stock_df)\n",
    "    \n",
    "X_train, X_test, y_train, y_test = ta.train_test_split(X, y, test_size=0.35, random_state=500)\n",
    "model = ta.train_model(X_train, y_train, nest=1000, md=6)\n",
    "#model = ta.train_booster(X_train, y_train, nest=10000, md=10)\n",
    "\n",
    "ta.evaluate_model(model, X_test, y_test)\n",
    "current_price = round(stock_df['Close'].iloc[-1], 2)  # Most recent closing price\n",
    "print(f'Current price of {STOCK_TICKER}:' , current_price)"
   ]
  },
  {
   "cell_type": "code",
   "execution_count": null,
   "id": "567c44e9-2324-4657-bfb3-e442ffa8d7d8",
   "metadata": {
    "jupyter": {
     "source_hidden": true
    }
   },
   "outputs": [],
   "source": [
    "# Make predictions\n",
    "predicted_prices = ta.predict_prices(model, stock_df, scaler, num_days=ndays, window_size=500)\n",
    "\n",
    "signal = ta.generate_signal(predicted_prices, current_price, stock_df)\n",
    "print(STOCK_TICKER + \" is predicted as a ---- \", signal)"
   ]
  },
  {
   "cell_type": "code",
   "execution_count": null,
   "id": "87fd95c7-4ec3-422f-94bb-fa07f67ab7a4",
   "metadata": {},
   "outputs": [],
   "source": [
    "# PLOT PREDICTION\n",
    "ps.plot_with_predictions(stock_df, predicted_prices, ticker = STOCK_TICKER, num_days=ndays)"
   ]
  }
 ],
 "metadata": {
  "kernelspec": {
   "display_name": "Python 3 (ipykernel)",
   "language": "python",
   "name": "python3"
  },
  "language_info": {
   "codemirror_mode": {
    "name": "ipython",
    "version": 3
   },
   "file_extension": ".py",
   "mimetype": "text/x-python",
   "name": "python",
   "nbconvert_exporter": "python",
   "pygments_lexer": "ipython3",
   "version": "3.11.9"
  },
  "widgets": {
   "application/vnd.jupyter.widget-state+json": {
    "state": {},
    "version_major": 2,
    "version_minor": 0
   }
  }
 },
 "nbformat": 4,
 "nbformat_minor": 5
}
